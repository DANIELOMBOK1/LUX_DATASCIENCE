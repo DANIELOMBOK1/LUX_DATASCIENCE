{
 "cells": [
  {
   "cell_type": "markdown",
   "id": "28ca9312",
   "metadata": {},
   "source": [
    "### OBJECT ORIENTED PROGRAMMING\n",
    "## classes and objects\n",
    "\n",
    "-Method is a function inside a class\n",
    "\n",
    "-attributes stores the daya for the object\n",
    "\n",
    "-constructor is where the method is defined...its the building block of object\n",
    "\n",
    "###Class\n",
    "A blueprint for creating objects.\n",
    "\n",
    "It defines attributes (data) and methods (functions).\n",
    "\n",
    "\n"
   ]
  },
  {
   "cell_type": "code",
   "execution_count": 1,
   "id": "cdd15faf",
   "metadata": {},
   "outputs": [],
   "source": [
    "class Dog:\n",
    "    def bark(self):\n",
    "        return \"Woof!\""
   ]
  },
  {
   "cell_type": "markdown",
   "id": "1e7e8fad",
   "metadata": {},
   "source": [
    "Object\n",
    "An instance of a class.\n",
    "\n",
    "Created from a class, it holds actual data."
   ]
  },
  {
   "cell_type": "code",
   "execution_count": 2,
   "id": "cf461d4c",
   "metadata": {},
   "outputs": [
    {
     "name": "stdout",
     "output_type": "stream",
     "text": [
      "Woof!\n"
     ]
    }
   ],
   "source": [
    "dog1 = Dog()  # dog1 is an object of class Dog\n",
    "print(dog1.bark())  # Output: Woof!"
   ]
  },
  {
   "cell_type": "markdown",
   "id": "3bda01da",
   "metadata": {},
   "source": [
    "###Constructor\n",
    "A special method that runs when an object is created.\n",
    "\n",
    "In Python, it's __init__()."
   ]
  },
  {
   "cell_type": "code",
   "execution_count": 3,
   "id": "84fde412",
   "metadata": {},
   "outputs": [
    {
     "name": "stdout",
     "output_type": "stream",
     "text": [
      "Buddy\n"
     ]
    }
   ],
   "source": [
    "class Dog:\n",
    "    def __init__(self, name):\n",
    "        self.name = name\n",
    "\n",
    "dog1 = Dog(\"Buddy\")\n",
    "print(dog1.name)  # Output: Buddy"
   ]
  },
  {
   "cell_type": "markdown",
   "id": "c55f79ae",
   "metadata": {},
   "source": [
    "Attribute\n",
    "A variable inside a class (e.g., name, age, color)."
   ]
  },
  {
   "cell_type": "markdown",
   "id": "108958fe",
   "metadata": {},
   "source": [
    "self.name = name  # 'name' is an attribute"
   ]
  },
  {
   "cell_type": "markdown",
   "id": "e700a789",
   "metadata": {},
   "source": [
    "# Method\n",
    "#A function inside a class that works with the object’s data."
   ]
  },
  {
   "cell_type": "code",
   "execution_count": 7,
   "id": "84710d51",
   "metadata": {},
   "outputs": [],
   "source": [
    "# Method\n",
    "#A function inside a class that works with the object’s data.\n",
    "\n",
    "\n",
    "def bark(self):\n",
    "    return f\"{self.name} says Woof!\""
   ]
  },
  {
   "cell_type": "markdown",
   "id": "0053086e",
   "metadata": {},
   "source": [
    "### Inheritance\n",
    "\n",
    "#### A class can inherit from another class to reuse code."
   ]
  },
  {
   "cell_type": "code",
   "execution_count": 8,
   "id": "5a9f8d91",
   "metadata": {},
   "outputs": [
    {
     "name": "stdout",
     "output_type": "stream",
     "text": [
      "I make a sound\n"
     ]
    }
   ],
   "source": [
    "class Animal:\n",
    "    def speak(self):\n",
    "        return \"I make a sound\"\n",
    "\n",
    "class Dog(Animal):\n",
    "    pass\n",
    "\n",
    "d = Dog()\n",
    "print(d.speak())  # Inherits from Animal"
   ]
  },
  {
   "cell_type": "markdown",
   "id": "1efd9fe4",
   "metadata": {},
   "source": [
    " ### Encapsulation\n",
    " \n",
    "Keeping data hidden using methods to access/modify it."
   ]
  },
  {
   "cell_type": "code",
   "execution_count": 9,
   "id": "365b2312",
   "metadata": {},
   "outputs": [],
   "source": [
    "class BankAccount:\n",
    "    def __init__(self):\n",
    "        self.__balance = 0  # Private attribute\n",
    "\n",
    "    def deposit(self, amount):\n",
    "        self.__balance += amount\n",
    "\n",
    "    def get_balance(self):\n",
    "        return self.__balance"
   ]
  },
  {
   "cell_type": "markdown",
   "id": "c7993ce8",
   "metadata": {},
   "source": [
    "### Polymorphism\n",
    "\n",
    "Methods with the same name but different behavior in different classes."
   ]
  },
  {
   "cell_type": "code",
   "execution_count": 10,
   "id": "49ed5208",
   "metadata": {},
   "outputs": [
    {
     "name": "stdout",
     "output_type": "stream",
     "text": [
      "Meow\n",
      "Woof\n"
     ]
    }
   ],
   "source": [
    "class Cat:\n",
    "    def sound(self):\n",
    "        return \"Meow\"\n",
    "\n",
    "class Dog:\n",
    "    def sound(self):\n",
    "        return \"Woof\"\n",
    "\n",
    "for animal in [Cat(), Dog()]:\n",
    "    print(animal.sound())  # Calls the right method for each"
   ]
  },
  {
   "cell_type": "markdown",
   "id": "935d046d",
   "metadata": {},
   "source": [
    "## Term\t## Description\n",
    "Class -\tBlueprint or template\n",
    "\n",
    "Object -\tInstance of a class\n",
    "\n",
    "Constructor\t-Initializes object (__init__)\n",
    "\n",
    "Attribute -\tObject variable (e.g., name, age)\n",
    "\n",
    "Method\t- Function inside a class\n",
    "\n",
    "Inheritance\t- Reuse behavior from a parent class\n",
    "\n",
    "Encapsulation\t- Hide internal details\n",
    "\n",
    "Polymorphism\t- Same method name, different behavior"
   ]
  },
  {
   "cell_type": "markdown",
   "id": "80e38071",
   "metadata": {},
   "source": [
    "#### pandas and Numpy\n",
    "\n",
    "--Pandas has two main data structures\n",
    "\n",
    "--powerful in data analysis\n",
    "\n",
    "-The structures are;\n",
    "\n",
    ". series- is basically a column in a table\n",
    "\n",
    ". dataframe is a table with rows and columns\n",
    "\n",
    ".when using pandas, import it as pd ie import pandas as pd."
   ]
  },
  {
   "cell_type": "code",
   "execution_count": 1,
   "id": "cb2d98a7",
   "metadata": {},
   "outputs": [
    {
     "data": {
      "text/html": [
       "<div>\n",
       "<style scoped>\n",
       "    .dataframe tbody tr th:only-of-type {\n",
       "        vertical-align: middle;\n",
       "    }\n",
       "\n",
       "    .dataframe tbody tr th {\n",
       "        vertical-align: top;\n",
       "    }\n",
       "\n",
       "    .dataframe thead th {\n",
       "        text-align: right;\n",
       "    }\n",
       "</style>\n",
       "<table border=\"1\" class=\"dataframe\">\n",
       "  <thead>\n",
       "    <tr style=\"text-align: right;\">\n",
       "      <th></th>\n",
       "      <th>Product</th>\n",
       "      <th>Current price</th>\n",
       "      <th>old price</th>\n",
       "      <th>Discount</th>\n",
       "      <th>Review</th>\n",
       "      <th>Ratingd</th>\n",
       "    </tr>\n",
       "  </thead>\n",
       "  <tbody>\n",
       "    <tr>\n",
       "      <th>0</th>\n",
       "      <td>115  Piece Set Of Multifunctional Precision Sc...</td>\n",
       "      <td>KSh 950</td>\n",
       "      <td>KSh 1,525</td>\n",
       "      <td>38%</td>\n",
       "      <td>(2)</td>\n",
       "      <td>4.5 out of 5</td>\n",
       "    </tr>\n",
       "    <tr>\n",
       "      <th>1</th>\n",
       "      <td>Metal Decorative Hooks Key Hangers Entryway Wa...</td>\n",
       "      <td>KSh 527</td>\n",
       "      <td>KSh 999</td>\n",
       "      <td>47%</td>\n",
       "      <td>(14)</td>\n",
       "      <td>4.1 out of 5</td>\n",
       "    </tr>\n",
       "    <tr>\n",
       "      <th>2</th>\n",
       "      <td>Portable Mini Cordless Car Vacuum Cleaner - Blue</td>\n",
       "      <td>KSh 2,199</td>\n",
       "      <td>KSh 2,923</td>\n",
       "      <td>25%</td>\n",
       "      <td>(24)</td>\n",
       "      <td>4.6 out of 5</td>\n",
       "    </tr>\n",
       "    <tr>\n",
       "      <th>3</th>\n",
       "      <td>Weighing Scale Digital Bathroom Body Fat Scale...</td>\n",
       "      <td>KSh 1,580</td>\n",
       "      <td>KSh 2,499</td>\n",
       "      <td>37%</td>\n",
       "      <td>(7)</td>\n",
       "      <td>4.7 out of 5</td>\n",
       "    </tr>\n",
       "    <tr>\n",
       "      <th>4</th>\n",
       "      <td>Portable Home Small Air Humidifier 3-Speed Fan...</td>\n",
       "      <td>KSh 1,740</td>\n",
       "      <td>KSh 2,356</td>\n",
       "      <td>26%</td>\n",
       "      <td>(5)</td>\n",
       "      <td>4.8 out of 5</td>\n",
       "    </tr>\n",
       "  </tbody>\n",
       "</table>\n",
       "</div>"
      ],
      "text/plain": [
       "                                             Product Current price  old price  \\\n",
       "0  115  Piece Set Of Multifunctional Precision Sc...       KSh 950  KSh 1,525   \n",
       "1  Metal Decorative Hooks Key Hangers Entryway Wa...       KSh 527    KSh 999   \n",
       "2   Portable Mini Cordless Car Vacuum Cleaner - Blue     KSh 2,199  KSh 2,923   \n",
       "3  Weighing Scale Digital Bathroom Body Fat Scale...     KSh 1,580  KSh 2,499   \n",
       "4  Portable Home Small Air Humidifier 3-Speed Fan...     KSh 1,740  KSh 2,356   \n",
       "\n",
       "  Discount Review       Ratingd  \n",
       "0      38%    (2)  4.5 out of 5  \n",
       "1      47%   (14)  4.1 out of 5  \n",
       "2      25%   (24)  4.6 out of 5  \n",
       "3      37%    (7)  4.7 out of 5  \n",
       "4      26%    (5)  4.8 out of 5  "
      ]
     },
     "execution_count": 1,
     "metadata": {},
     "output_type": "execute_result"
    }
   ],
   "source": [
    "# import dataframe\n",
    "import pandas as pd\n",
    "df=pd.read_csv(\"Excel_jumia.csv\")\n",
    "df.head()"
   ]
  },
  {
   "cell_type": "code",
   "execution_count": null,
   "id": "98e14c2b",
   "metadata": {},
   "outputs": [
    {
     "name": "stdout",
     "output_type": "stream",
     "text": [
      "<class 'pandas.core.frame.DataFrame'>\n",
      "RangeIndex: 115 entries, 0 to 114\n",
      "Data columns (total 6 columns):\n",
      " #   Column         Non-Null Count  Dtype \n",
      "---  ------         --------------  ----- \n",
      " 0   Product        115 non-null    object\n",
      " 1   Current price  115 non-null    object\n",
      " 2   old price      115 non-null    object\n",
      " 3   Discount       115 non-null    object\n",
      " 4   Review         57 non-null     object\n",
      " 5   Ratingd        57 non-null     object\n",
      "dtypes: object(6)\n",
      "memory usage: 5.5+ KB\n"
     ]
    }
   ],
   "source": [
    "df.info() # gives all information including column names,datatypes number of entries(rows)"
   ]
  },
  {
   "cell_type": "code",
   "execution_count": 4,
   "id": "10a38624",
   "metadata": {},
   "outputs": [
    {
     "data": {
      "text/html": [
       "<div>\n",
       "<style scoped>\n",
       "    .dataframe tbody tr th:only-of-type {\n",
       "        vertical-align: middle;\n",
       "    }\n",
       "\n",
       "    .dataframe tbody tr th {\n",
       "        vertical-align: top;\n",
       "    }\n",
       "\n",
       "    .dataframe thead th {\n",
       "        text-align: right;\n",
       "    }\n",
       "</style>\n",
       "<table border=\"1\" class=\"dataframe\">\n",
       "  <thead>\n",
       "    <tr style=\"text-align: right;\">\n",
       "      <th></th>\n",
       "      <th>Product</th>\n",
       "      <th>Current price</th>\n",
       "      <th>old price</th>\n",
       "      <th>Discount</th>\n",
       "      <th>Review</th>\n",
       "      <th>Ratingd</th>\n",
       "    </tr>\n",
       "  </thead>\n",
       "  <tbody>\n",
       "    <tr>\n",
       "      <th>count</th>\n",
       "      <td>115</td>\n",
       "      <td>115</td>\n",
       "      <td>115</td>\n",
       "      <td>115</td>\n",
       "      <td>57</td>\n",
       "      <td>57</td>\n",
       "    </tr>\n",
       "    <tr>\n",
       "      <th>unique</th>\n",
       "      <td>109</td>\n",
       "      <td>103</td>\n",
       "      <td>93</td>\n",
       "      <td>46</td>\n",
       "      <td>23</td>\n",
       "      <td>22</td>\n",
       "    </tr>\n",
       "    <tr>\n",
       "      <th>top</th>\n",
       "      <td>Balloon Insert, Birthday Party Balloon Set, PU...</td>\n",
       "      <td>KSh 799</td>\n",
       "      <td>KSh 1,699</td>\n",
       "      <td>49%</td>\n",
       "      <td>(5)</td>\n",
       "      <td>5 out of 5</td>\n",
       "    </tr>\n",
       "    <tr>\n",
       "      <th>freq</th>\n",
       "      <td>3</td>\n",
       "      <td>4</td>\n",
       "      <td>7</td>\n",
       "      <td>14</td>\n",
       "      <td>7</td>\n",
       "      <td>7</td>\n",
       "    </tr>\n",
       "  </tbody>\n",
       "</table>\n",
       "</div>"
      ],
      "text/plain": [
       "                                                  Product Current price  \\\n",
       "count                                                 115           115   \n",
       "unique                                                109           103   \n",
       "top     Balloon Insert, Birthday Party Balloon Set, PU...       KSh 799   \n",
       "freq                                                    3             4   \n",
       "\n",
       "        old price Discount Review     Ratingd  \n",
       "count         115      115     57          57  \n",
       "unique         93       46     23          22  \n",
       "top     KSh 1,699      49%    (5)  5 out of 5  \n",
       "freq            7       14      7           7  "
      ]
     },
     "execution_count": 4,
     "metadata": {},
     "output_type": "execute_result"
    }
   ],
   "source": [
    "df.describe()"
   ]
  },
  {
   "cell_type": "markdown",
   "id": "da6c8601",
   "metadata": {},
   "source": [
    "### HANDLING MISSING VALUES\n",
    "\n",
    "-Numerical data can be replaced using  mean,median or mode\n",
    "\n",
    "-categorical data can be replaced using unknown ,mode \n",
    "\n",
    "-mode can onlu be used if values are repeted\n",
    "\n",
    "-mean can be used is the dataset symetrical in nature or no outliers\n",
    "\n",
    "-meadian is used if the dataset is asymmetrical or has outliers\n",
    "\n",
    "-method 'fillna' is used to fill missing values in python"
   ]
  },
  {
   "cell_type": "code",
   "execution_count": 5,
   "id": "dfdd6ec7",
   "metadata": {},
   "outputs": [
    {
     "data": {
      "text/plain": [
       "<bound method NDFrame.describe of                                                Product Current price  \\\n",
       "0    115  Piece Set Of Multifunctional Precision Sc...       KSh 950   \n",
       "1    Metal Decorative Hooks Key Hangers Entryway Wa...       KSh 527   \n",
       "2     Portable Mini Cordless Car Vacuum Cleaner - Blue     KSh 2,199   \n",
       "3    Weighing Scale Digital Bathroom Body Fat Scale...     KSh 1,580   \n",
       "4    Portable Home Small Air Humidifier 3-Speed Fan...     KSh 1,740   \n",
       "..                                                 ...           ...   \n",
       "110  Shower Nozzle Cleaning Unclogging Needle Mini ...     KSh 1,658   \n",
       "111  Thickening Multipurpose Non Stick Easy To Clea...     KSh 1,768   \n",
       "112  6 In 1 Bottle Can Opener Multifunctional Easy ...       KSh 199   \n",
       "113         Wall-mounted Sticker Punch-free Plug Fixer       KSh 450   \n",
       "114  Black Simple Water Cup Wine Coaster Anti Slip ...       KSh 169   \n",
       "\n",
       "     old price Discount Review       Ratingd  \n",
       "0    KSh 1,525      38%    (2)  4.5 out of 5  \n",
       "1      KSh 999      47%   (14)  4.1 out of 5  \n",
       "2    KSh 2,923      25%   (24)  4.6 out of 5  \n",
       "3    KSh 2,499      37%    (7)  4.7 out of 5  \n",
       "4    KSh 2,356      26%    (5)  4.8 out of 5  \n",
       "..         ...      ...    ...           ...  \n",
       "110  KSh 1,699       2%    NaN           NaN  \n",
       "111  KSh 1,799       2%    NaN           NaN  \n",
       "112    KSh 553      64%    NaN           NaN  \n",
       "113    KSh 900      50%    (1)    2 out of 5  \n",
       "114    KSh 320      47%    NaN           NaN  \n",
       "\n",
       "[115 rows x 6 columns]>"
      ]
     },
     "execution_count": 5,
     "metadata": {},
     "output_type": "execute_result"
    }
   ],
   "source": [
    "df.describe"
   ]
  },
  {
   "cell_type": "code",
   "execution_count": 11,
   "id": "ec541710",
   "metadata": {},
   "outputs": [
    {
     "name": "stdout",
     "output_type": "stream",
     "text": [
      "count      57\n",
      "unique     23\n",
      "top       (5)\n",
      "freq        7\n",
      "Name: Review, dtype: object\n"
     ]
    }
   ],
   "source": [
    "print(df['Review'].describe())"
   ]
  },
  {
   "cell_type": "code",
   "execution_count": 12,
   "id": "e28e77ac",
   "metadata": {},
   "outputs": [],
   "source": [
    "df['Review'] = pd.to_numeric(df['Review'], errors='coerce')"
   ]
  },
  {
   "cell_type": "code",
   "execution_count": 13,
   "id": "c0a4dcff",
   "metadata": {},
   "outputs": [
    {
     "name": "stdout",
     "output_type": "stream",
     "text": [
      "count    0.0\n",
      "mean     NaN\n",
      "std      NaN\n",
      "min      NaN\n",
      "25%      NaN\n",
      "50%      NaN\n",
      "75%      NaN\n",
      "max      NaN\n",
      "Name: Review, dtype: float64\n"
     ]
    }
   ],
   "source": [
    "print(df['Review'].describe())"
   ]
  }
 ],
 "metadata": {
  "kernelspec": {
   "display_name": "base",
   "language": "python",
   "name": "python3"
  },
  "language_info": {
   "codemirror_mode": {
    "name": "ipython",
    "version": 3
   },
   "file_extension": ".py",
   "mimetype": "text/x-python",
   "name": "python",
   "nbconvert_exporter": "python",
   "pygments_lexer": "ipython3",
   "version": "3.11.11"
  }
 },
 "nbformat": 4,
 "nbformat_minor": 5
}

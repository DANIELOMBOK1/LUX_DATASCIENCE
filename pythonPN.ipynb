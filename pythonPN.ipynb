{
 "cells": [
  {
   "cell_type": "markdown",
   "id": "b49842fa",
   "metadata": {},
   "source": [
    "### PANDAS AND NUMPY\n",
    "\n",
    "Pandas- is library used in data analysis\n",
    "\n",
    "Dataframe- is a table with rows and columns\n",
    "\n"
   ]
  },
  {
   "cell_type": "code",
   "execution_count": 1,
   "id": "fee2f2a2",
   "metadata": {},
   "outputs": [
    {
     "data": {
      "text/html": [
       "<div>\n",
       "<style scoped>\n",
       "    .dataframe tbody tr th:only-of-type {\n",
       "        vertical-align: middle;\n",
       "    }\n",
       "\n",
       "    .dataframe tbody tr th {\n",
       "        vertical-align: top;\n",
       "    }\n",
       "\n",
       "    .dataframe thead th {\n",
       "        text-align: right;\n",
       "    }\n",
       "</style>\n",
       "<table border=\"1\" class=\"dataframe\">\n",
       "  <thead>\n",
       "    <tr style=\"text-align: right;\">\n",
       "      <th></th>\n",
       "      <th>Product</th>\n",
       "      <th>Current price</th>\n",
       "      <th>old price</th>\n",
       "      <th>Discount</th>\n",
       "      <th>Review</th>\n",
       "      <th>Ratingd</th>\n",
       "    </tr>\n",
       "  </thead>\n",
       "  <tbody>\n",
       "    <tr>\n",
       "      <th>0</th>\n",
       "      <td>115  Piece Set Of Multifunctional Precision Sc...</td>\n",
       "      <td>KSh 950</td>\n",
       "      <td>KSh 1,525</td>\n",
       "      <td>38%</td>\n",
       "      <td>(2)</td>\n",
       "      <td>4.5 out of 5</td>\n",
       "    </tr>\n",
       "    <tr>\n",
       "      <th>1</th>\n",
       "      <td>Metal Decorative Hooks Key Hangers Entryway Wa...</td>\n",
       "      <td>KSh 527</td>\n",
       "      <td>KSh 999</td>\n",
       "      <td>47%</td>\n",
       "      <td>(14)</td>\n",
       "      <td>4.1 out of 5</td>\n",
       "    </tr>\n",
       "    <tr>\n",
       "      <th>2</th>\n",
       "      <td>Portable Mini Cordless Car Vacuum Cleaner - Blue</td>\n",
       "      <td>KSh 2,199</td>\n",
       "      <td>KSh 2,923</td>\n",
       "      <td>25%</td>\n",
       "      <td>(24)</td>\n",
       "      <td>4.6 out of 5</td>\n",
       "    </tr>\n",
       "    <tr>\n",
       "      <th>3</th>\n",
       "      <td>Weighing Scale Digital Bathroom Body Fat Scale...</td>\n",
       "      <td>KSh 1,580</td>\n",
       "      <td>KSh 2,499</td>\n",
       "      <td>37%</td>\n",
       "      <td>(7)</td>\n",
       "      <td>4.7 out of 5</td>\n",
       "    </tr>\n",
       "    <tr>\n",
       "      <th>4</th>\n",
       "      <td>Portable Home Small Air Humidifier 3-Speed Fan...</td>\n",
       "      <td>KSh 1,740</td>\n",
       "      <td>KSh 2,356</td>\n",
       "      <td>26%</td>\n",
       "      <td>(5)</td>\n",
       "      <td>4.8 out of 5</td>\n",
       "    </tr>\n",
       "  </tbody>\n",
       "</table>\n",
       "</div>"
      ],
      "text/plain": [
       "                                             Product Current price  old price  \\\n",
       "0  115  Piece Set Of Multifunctional Precision Sc...       KSh 950  KSh 1,525   \n",
       "1  Metal Decorative Hooks Key Hangers Entryway Wa...       KSh 527    KSh 999   \n",
       "2   Portable Mini Cordless Car Vacuum Cleaner - Blue     KSh 2,199  KSh 2,923   \n",
       "3  Weighing Scale Digital Bathroom Body Fat Scale...     KSh 1,580  KSh 2,499   \n",
       "4  Portable Home Small Air Humidifier 3-Speed Fan...     KSh 1,740  KSh 2,356   \n",
       "\n",
       "  Discount Review       Ratingd  \n",
       "0      38%    (2)  4.5 out of 5  \n",
       "1      47%   (14)  4.1 out of 5  \n",
       "2      25%   (24)  4.6 out of 5  \n",
       "3      37%    (7)  4.7 out of 5  \n",
       "4      26%    (5)  4.8 out of 5  "
      ]
     },
     "execution_count": 1,
     "metadata": {},
     "output_type": "execute_result"
    }
   ],
   "source": [
    "import pandas as pd\n",
    "data=pd.read_csv(r\"Excel_jumia.csv\")\n",
    "data.head()"
   ]
  },
  {
   "cell_type": "code",
   "execution_count": 4,
   "id": "534be418",
   "metadata": {},
   "outputs": [
    {
     "data": {
      "text/plain": [
       "(115, 6)"
      ]
     },
     "execution_count": 4,
     "metadata": {},
     "output_type": "execute_result"
    }
   ],
   "source": [
    "data.shape"
   ]
  },
  {
   "cell_type": "code",
   "execution_count": 7,
   "id": "95a63095",
   "metadata": {},
   "outputs": [
    {
     "name": "stdout",
     "output_type": "stream",
     "text": [
      "<class 'pandas.core.frame.DataFrame'>\n",
      "RangeIndex: 115 entries, 0 to 114\n",
      "Data columns (total 6 columns):\n",
      " #   Column         Non-Null Count  Dtype \n",
      "---  ------         --------------  ----- \n",
      " 0   Product        115 non-null    object\n",
      " 1   Current price  115 non-null    object\n",
      " 2   old price      115 non-null    object\n",
      " 3   Discount       115 non-null    object\n",
      " 4   Review         57 non-null     object\n",
      " 5   Ratingd        57 non-null     object\n",
      "dtypes: object(6)\n",
      "memory usage: 5.5+ KB\n"
     ]
    }
   ],
   "source": [
    "#getting information about the data\n",
    "data.info()"
   ]
  },
  {
   "cell_type": "code",
   "execution_count": 3,
   "id": "677fc225",
   "metadata": {},
   "outputs": [
    {
     "data": {
      "text/html": [
       "<div>\n",
       "<style scoped>\n",
       "    .dataframe tbody tr th:only-of-type {\n",
       "        vertical-align: middle;\n",
       "    }\n",
       "\n",
       "    .dataframe tbody tr th {\n",
       "        vertical-align: top;\n",
       "    }\n",
       "\n",
       "    .dataframe thead th {\n",
       "        text-align: right;\n",
       "    }\n",
       "</style>\n",
       "<table border=\"1\" class=\"dataframe\">\n",
       "  <thead>\n",
       "    <tr style=\"text-align: right;\">\n",
       "      <th></th>\n",
       "      <th>Product</th>\n",
       "      <th>Current price</th>\n",
       "      <th>old price</th>\n",
       "      <th>Discount</th>\n",
       "      <th>Review</th>\n",
       "      <th>Ratingd</th>\n",
       "    </tr>\n",
       "  </thead>\n",
       "  <tbody>\n",
       "    <tr>\n",
       "      <th>0</th>\n",
       "      <td>115  Piece Set Of Multifunctional Precision Sc...</td>\n",
       "      <td>KSh 950</td>\n",
       "      <td>KSh 1,525</td>\n",
       "      <td>38%</td>\n",
       "      <td>(2)</td>\n",
       "      <td>4.5 out of 5</td>\n",
       "    </tr>\n",
       "    <tr>\n",
       "      <th>1</th>\n",
       "      <td>Metal Decorative Hooks Key Hangers Entryway Wa...</td>\n",
       "      <td>KSh 527</td>\n",
       "      <td>KSh 999</td>\n",
       "      <td>47%</td>\n",
       "      <td>(14)</td>\n",
       "      <td>4.1 out of 5</td>\n",
       "    </tr>\n",
       "    <tr>\n",
       "      <th>2</th>\n",
       "      <td>Portable Mini Cordless Car Vacuum Cleaner - Blue</td>\n",
       "      <td>KSh 2,199</td>\n",
       "      <td>KSh 2,923</td>\n",
       "      <td>25%</td>\n",
       "      <td>(24)</td>\n",
       "      <td>4.6 out of 5</td>\n",
       "    </tr>\n",
       "    <tr>\n",
       "      <th>3</th>\n",
       "      <td>Weighing Scale Digital Bathroom Body Fat Scale...</td>\n",
       "      <td>KSh 1,580</td>\n",
       "      <td>KSh 2,499</td>\n",
       "      <td>37%</td>\n",
       "      <td>(7)</td>\n",
       "      <td>4.7 out of 5</td>\n",
       "    </tr>\n",
       "    <tr>\n",
       "      <th>4</th>\n",
       "      <td>Portable Home Small Air Humidifier 3-Speed Fan...</td>\n",
       "      <td>KSh 1,740</td>\n",
       "      <td>KSh 2,356</td>\n",
       "      <td>26%</td>\n",
       "      <td>(5)</td>\n",
       "      <td>4.8 out of 5</td>\n",
       "    </tr>\n",
       "  </tbody>\n",
       "</table>\n",
       "</div>"
      ],
      "text/plain": [
       "                                             Product Current price  old price  \\\n",
       "0  115  Piece Set Of Multifunctional Precision Sc...       KSh 950  KSh 1,525   \n",
       "1  Metal Decorative Hooks Key Hangers Entryway Wa...       KSh 527    KSh 999   \n",
       "2   Portable Mini Cordless Car Vacuum Cleaner - Blue     KSh 2,199  KSh 2,923   \n",
       "3  Weighing Scale Digital Bathroom Body Fat Scale...     KSh 1,580  KSh 2,499   \n",
       "4  Portable Home Small Air Humidifier 3-Speed Fan...     KSh 1,740  KSh 2,356   \n",
       "\n",
       "  Discount Review       Ratingd  \n",
       "0      38%    (2)  4.5 out of 5  \n",
       "1      47%   (14)  4.1 out of 5  \n",
       "2      25%   (24)  4.6 out of 5  \n",
       "3      37%    (7)  4.7 out of 5  \n",
       "4      26%    (5)  4.8 out of 5  "
      ]
     },
     "execution_count": 3,
     "metadata": {},
     "output_type": "execute_result"
    }
   ],
   "source": [
    "data=pd.read_csv(\"Excel_jumia.csv\")\n",
    "data.head()"
   ]
  },
  {
   "cell_type": "code",
   "execution_count": 8,
   "id": "affaaa73",
   "metadata": {},
   "outputs": [
    {
     "data": {
      "text/plain": [
       "Product           0\n",
       "Current price     0\n",
       "old price         0\n",
       "Discount          0\n",
       "Review           58\n",
       "Ratingd          58\n",
       "dtype: int64"
      ]
     },
     "execution_count": 8,
     "metadata": {},
     "output_type": "execute_result"
    }
   ],
   "source": [
    "data.isnull().sum()"
   ]
  },
  {
   "cell_type": "code",
   "execution_count": 9,
   "id": "b51a4b7c",
   "metadata": {},
   "outputs": [
    {
     "data": {
      "text/plain": [
       "<bound method NDFrame.describe of                                                Product Current price  \\\n",
       "0    115  Piece Set Of Multifunctional Precision Sc...       KSh 950   \n",
       "1    Metal Decorative Hooks Key Hangers Entryway Wa...       KSh 527   \n",
       "2     Portable Mini Cordless Car Vacuum Cleaner - Blue     KSh 2,199   \n",
       "3    Weighing Scale Digital Bathroom Body Fat Scale...     KSh 1,580   \n",
       "4    Portable Home Small Air Humidifier 3-Speed Fan...     KSh 1,740   \n",
       "..                                                 ...           ...   \n",
       "110  Shower Nozzle Cleaning Unclogging Needle Mini ...     KSh 1,658   \n",
       "111  Thickening Multipurpose Non Stick Easy To Clea...     KSh 1,768   \n",
       "112  6 In 1 Bottle Can Opener Multifunctional Easy ...       KSh 199   \n",
       "113         Wall-mounted Sticker Punch-free Plug Fixer       KSh 450   \n",
       "114  Black Simple Water Cup Wine Coaster Anti Slip ...       KSh 169   \n",
       "\n",
       "     old price Discount Review       Ratingd  \n",
       "0    KSh 1,525      38%    (2)  4.5 out of 5  \n",
       "1      KSh 999      47%   (14)  4.1 out of 5  \n",
       "2    KSh 2,923      25%   (24)  4.6 out of 5  \n",
       "3    KSh 2,499      37%    (7)  4.7 out of 5  \n",
       "4    KSh 2,356      26%    (5)  4.8 out of 5  \n",
       "..         ...      ...    ...           ...  \n",
       "110  KSh 1,699       2%    NaN           NaN  \n",
       "111  KSh 1,799       2%    NaN           NaN  \n",
       "112    KSh 553      64%    NaN           NaN  \n",
       "113    KSh 900      50%    (1)    2 out of 5  \n",
       "114    KSh 320      47%    NaN           NaN  \n",
       "\n",
       "[115 rows x 6 columns]>"
      ]
     },
     "execution_count": 9,
     "metadata": {},
     "output_type": "execute_result"
    }
   ],
   "source": [
    "data.describe"
   ]
  },
  {
   "cell_type": "markdown",
   "id": "a32b0243",
   "metadata": {},
   "source": [
    "# filling null\n",
    "## mean when data has outliers\n",
    "# median when data doesnt have outliers\n",
    "#mode\n",
    "# unknown for categorical data\n",
    "#Imputation Method\tUse For\tWhen to Use\n",
    "\n",
    "Mean\tNumeric\tWhen values are symmetrically distributed\n",
    "\n",
    "Median\tNumeric\tWhen there are outliers\n",
    "\n",
    "Mode\tCategorical\tWhen there's a common category\n",
    "\n",
    "Unknown\tCategorical\tWhen you want to track missing values\n",
    "\n",
    "# Fill numeric column with mean\n",
    "data['Age'].fillna(data['Age'].mean(), inplace=True)\n",
    "\n",
    "# Fill categorical column with mode\n",
    "data['Gender'].fillna(data['Gender'].mode()[0], inplace=True)\n",
    "\n",
    "print(data)\n",
    "\n",
    "\n"
   ]
  },
  {
   "cell_type": "code",
   "execution_count": 10,
   "id": "d306131d",
   "metadata": {},
   "outputs": [
    {
     "data": {
      "text/plain": [
       "<bound method DataFrame.info of                                                Product Current price  \\\n",
       "0    115  Piece Set Of Multifunctional Precision Sc...       KSh 950   \n",
       "1    Metal Decorative Hooks Key Hangers Entryway Wa...       KSh 527   \n",
       "2     Portable Mini Cordless Car Vacuum Cleaner - Blue     KSh 2,199   \n",
       "3    Weighing Scale Digital Bathroom Body Fat Scale...     KSh 1,580   \n",
       "4    Portable Home Small Air Humidifier 3-Speed Fan...     KSh 1,740   \n",
       "..                                                 ...           ...   \n",
       "110  Shower Nozzle Cleaning Unclogging Needle Mini ...     KSh 1,658   \n",
       "111  Thickening Multipurpose Non Stick Easy To Clea...     KSh 1,768   \n",
       "112  6 In 1 Bottle Can Opener Multifunctional Easy ...       KSh 199   \n",
       "113         Wall-mounted Sticker Punch-free Plug Fixer       KSh 450   \n",
       "114  Black Simple Water Cup Wine Coaster Anti Slip ...       KSh 169   \n",
       "\n",
       "     old price Discount Review       Ratingd  \n",
       "0    KSh 1,525      38%    (2)  4.5 out of 5  \n",
       "1      KSh 999      47%   (14)  4.1 out of 5  \n",
       "2    KSh 2,923      25%   (24)  4.6 out of 5  \n",
       "3    KSh 2,499      37%    (7)  4.7 out of 5  \n",
       "4    KSh 2,356      26%    (5)  4.8 out of 5  \n",
       "..         ...      ...    ...           ...  \n",
       "110  KSh 1,699       2%    NaN           NaN  \n",
       "111  KSh 1,799       2%    NaN           NaN  \n",
       "112    KSh 553      64%    NaN           NaN  \n",
       "113    KSh 900      50%    (1)    2 out of 5  \n",
       "114    KSh 320      47%    NaN           NaN  \n",
       "\n",
       "[115 rows x 6 columns]>"
      ]
     },
     "execution_count": 10,
     "metadata": {},
     "output_type": "execute_result"
    }
   ],
   "source": [
    "data.info"
   ]
  }
 ],
 "metadata": {
  "kernelspec": {
   "display_name": "base",
   "language": "python",
   "name": "python3"
  },
  "language_info": {
   "codemirror_mode": {
    "name": "ipython",
    "version": 3
   },
   "file_extension": ".py",
   "mimetype": "text/x-python",
   "name": "python",
   "nbconvert_exporter": "python",
   "pygments_lexer": "ipython3",
   "version": "3.11.11"
  }
 },
 "nbformat": 4,
 "nbformat_minor": 5
}

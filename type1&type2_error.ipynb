{
 "cells": [
  {
   "cell_type": "markdown",
   "id": "e50b905a",
   "metadata": {},
   "source": [
    "### TYPE I AND TYPE II ERROR"
   ]
  },
  {
   "cell_type": "code",
   "execution_count": 1,
   "id": "564e4647",
   "metadata": {},
   "outputs": [],
   "source": [
    "import pandas as pd\n",
    "from scipy import stats\n",
    "import numpy as np\n"
   ]
  },
  {
   "cell_type": "code",
   "execution_count": null,
   "id": "149b7bcb",
   "metadata": {},
   "outputs": [
    {
     "name": "stdout",
     "output_type": "stream",
     "text": [
      "15.0\n"
     ]
    }
   ],
   "source": [
    "# flipping a coin 20 times having 75% of getting a head and 25% tail\n",
    "# how many times should we flip a 75% coin to determine its a false\n",
    "# HULL HYPOTHESIS- A COIN IS FAIR\n",
    "#ALTERNATIVE HYPOTHESIS-IT IS NOT A FAIR COIN\n",
    "# calculate the mean\n",
    "n=20\n",
    "observed_p=0.75\n",
    "mean=n*observed_p # sample mean\n",
    "print(mean)\n"
   ]
  },
  {
   "cell_type": "code",
   "execution_count": null,
   "id": "37df623e",
   "metadata": {},
   "outputs": [
    {
     "name": "stdout",
     "output_type": "stream",
     "text": [
      "10.0\n"
     ]
    }
   ],
   "source": [
    "# calculating the standard deviation ( use t-test when std is given)\n",
    "p_mean=n*0.5  # theoritical mean\n",
    "print(p_mean)"
   ]
  },
  {
   "cell_type": "code",
   "execution_count": 5,
   "id": "c3c3e2a8",
   "metadata": {},
   "outputs": [
    {
     "name": "stdout",
     "output_type": "stream",
     "text": [
      "2.23606797749979\n"
     ]
    }
   ],
   "source": [
    "# population std \n",
    "p_std=np.sqrt(abs(n*0.5*(1-0.5)))\n",
    "print(p_std)"
   ]
  },
  {
   "cell_type": "code",
   "execution_count": 7,
   "id": "0d89db8e",
   "metadata": {},
   "outputs": [
    {
     "name": "stdout",
     "output_type": "stream",
     "text": [
      "10.0\n"
     ]
    }
   ],
   "source": [
    "# z-statistics\n",
    "z=(mean-p_mean)/(p_std/(np.sqrt(n)))\n",
    "print(z)"
   ]
  },
  {
   "cell_type": "code",
   "execution_count": 8,
   "id": "8dba34be",
   "metadata": {},
   "outputs": [
    {
     "name": "stdout",
     "output_type": "stream",
     "text": [
      "0.0\n"
     ]
    }
   ],
   "source": [
    "# calculating the p_value\n",
    "p_coin=1-stats.norm.cdf(z)\n",
    "print(p_coin)"
   ]
  },
  {
   "cell_type": "code",
   "execution_count": 9,
   "id": "feb1b073",
   "metadata": {},
   "outputs": [
    {
     "name": "stdout",
     "output_type": "stream",
     "text": [
      "7.61985302416047e-24\n"
     ]
    }
   ],
   "source": [
    "p_coin_val=stats.norm.sf(abs(z))\n",
    "print(p_coin_val)"
   ]
  },
  {
   "cell_type": "code",
   "execution_count": null,
   "id": "1f3281ab",
   "metadata": {},
   "outputs": [],
   "source": [
    "# based on the current evidence and testing,we will reject the null hypothesis and conclude that the coin is not fair"
   ]
  }
 ],
 "metadata": {
  "kernelspec": {
   "display_name": "myvenv (3.13.5)",
   "language": "python",
   "name": "python3"
  },
  "language_info": {
   "codemirror_mode": {
    "name": "ipython",
    "version": 3
   },
   "file_extension": ".py",
   "mimetype": "text/x-python",
   "name": "python",
   "nbconvert_exporter": "python",
   "pygments_lexer": "ipython3",
   "version": "3.13.5"
  }
 },
 "nbformat": 4,
 "nbformat_minor": 5
}

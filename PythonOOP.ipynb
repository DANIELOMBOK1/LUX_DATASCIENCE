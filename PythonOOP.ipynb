{
 "cells": [
  {
   "cell_type": "markdown",
   "id": "fdb89028",
   "metadata": {},
   "source": [
    "### OBJECT ORIENTED PROGRAMMING ( OOP)\n",
    "OBJECT\n",
    "\n",
    "-CLASS is the blue print for creating objects"
   ]
  },
  {
   "cell_type": "code",
   "execution_count": null,
   "id": "9fafacd9",
   "metadata": {},
   "outputs": [],
   "source": [
    "# a method is a fuction inside a class\n",
    "# para is input when \n",
    "# method\n",
    "# retur-stores output until you call the output\n",
    "class Person:\n",
    "    def __init__(self, name, age):  # constructor method, self refers to object being made\n",
    "        self.name = name  # attribute\n",
    "        self.age = age\n",
    "\n",
    "    def greet(self):\n",
    "        return f\"Hi, my name is {self.name} and I am {self.age} years old.\"\n"
   ]
  },
  {
   "cell_type": "code",
   "execution_count": 5,
   "id": "bb6178c3",
   "metadata": {},
   "outputs": [
    {
     "name": "stdout",
     "output_type": "stream",
     "text": [
      "Hi, my name is Daniel and I am 31 years old.\n"
     ]
    }
   ],
   "source": [
    "# to initialize the class\n",
    "person_1=Person(\"Daniel\",31)\n",
    "print(person_1.greet())"
   ]
  },
  {
   "cell_type": "code",
   "execution_count": 13,
   "id": "4c9387f3",
   "metadata": {},
   "outputs": [],
   "source": [
    "# dog class\n",
    "class Dog:\n",
    "    def __init__(self, name, breed, age):  # constructor\n",
    "        self.name = name\n",
    "        self.breed = breed\n",
    "        self.age = age\n",
    "\n",
    "    def bark(self):\n",
    "        return f\"Woof! My name is {self.name}. My breed is {self.breed} and I am {self.age} years old.\"\n",
    "   "
   ]
  },
  {
   "cell_type": "code",
   "execution_count": 14,
   "id": "f1b8b6d1",
   "metadata": {},
   "outputs": [
    {
     "name": "stdout",
     "output_type": "stream",
     "text": [
      "Woof! My name is Buddy. My breed is Golden Retriever and I am 5 years old.\n",
      "Woof! My name is Max. My breed is German Shepherd and I am 3 years old.\n"
     ]
    }
   ],
   "source": [
    " \n",
    "dog1 = Dog(\"Buddy\", \"Golden Retriever\", 5)\n",
    "print(dog1.bark())\n",
    "# Dog2\n",
    "dog2 = Dog(\"Max\", \"German Shepherd\", 3)\n",
    "print(dog2.bark())"
   ]
  },
  {
   "cell_type": "code",
   "execution_count": null,
   "id": "d758a4b9",
   "metadata": {},
   "outputs": [],
   "source": [
    "# class Rectangle\n",
    "class Rectangle:\n",
    "    def __init__(self,length,width):  # class constructors\n",
    "         self.length=length  # class attributes\n",
    "         self.width=width\n",
    "    def area(self):\n",
    "         return f\"Area is{self.length*self.width}\"\n",
    "    def perimeter(self):\n",
    "         return f\"Perimeter is {2*self.length+2*self.width}\"\n"
   ]
  },
  {
   "cell_type": "code",
   "execution_count": 26,
   "id": "b6a16f5c",
   "metadata": {},
   "outputs": [
    {
     "name": "stdout",
     "output_type": "stream",
     "text": [
      "Area is28\n"
     ]
    }
   ],
   "source": [
    "dim=Rectangle(4,7)\n",
    "print(dim.area())"
   ]
  },
  {
   "cell_type": "code",
   "execution_count": 27,
   "id": "8b016a36",
   "metadata": {},
   "outputs": [
    {
     "name": "stdout",
     "output_type": "stream",
     "text": [
      "Perimeter is 22\n"
     ]
    }
   ],
   "source": [
    "print(dim.perimeter())"
   ]
  },
  {
   "cell_type": "code",
   "execution_count": 42,
   "id": "f8140061",
   "metadata": {},
   "outputs": [],
   "source": [
    "# class circle\n",
    "class Circle:\n",
    "    def __init__(self,radius):\n",
    "        self.radius=radius\n",
    "         \n",
    "    def area(self):\n",
    "        area=22/7*self.radius**2\n",
    "        return f\"AREA IS {area}\"\n",
    "    def perimeter(self):\n",
    "       perimeter=22/7*2*self.radius\n",
    "       return f\" Perimeter is {perimeter}\"\n",
    "   \n",
    "    "
   ]
  },
  {
   "cell_type": "code",
   "execution_count": 44,
   "id": "0db805ac",
   "metadata": {},
   "outputs": [
    {
     "name": "stdout",
     "output_type": "stream",
     "text": [
      "AREA IS 616.0\n",
      " Perimeter is 88.0\n"
     ]
    }
   ],
   "source": [
    "Circle1= Circle(14)\n",
    "print(Circle1.area())\n",
    "print(Circle1.perimeter())"
   ]
  },
  {
   "cell_type": "code",
   "execution_count": 47,
   "id": "a37e4af5",
   "metadata": {},
   "outputs": [
    {
     "name": "stdout",
     "output_type": "stream",
     "text": [
      "AREA IS 3069.1964285714284\n",
      " Perimeter is 196.42857142857142\n"
     ]
    }
   ],
   "source": [
    "Circle2=Circle(31.25)\n",
    "print(Circle2.area())\n",
    "print(Circle2.perimeter())\n"
   ]
  }
 ],
 "metadata": {
  "kernelspec": {
   "display_name": "base",
   "language": "python",
   "name": "python3"
  },
  "language_info": {
   "codemirror_mode": {
    "name": "ipython",
    "version": 3
   },
   "file_extension": ".py",
   "mimetype": "text/x-python",
   "name": "python",
   "nbconvert_exporter": "python",
   "pygments_lexer": "ipython3",
   "version": "3.11.11"
  }
 },
 "nbformat": 4,
 "nbformat_minor": 5
}

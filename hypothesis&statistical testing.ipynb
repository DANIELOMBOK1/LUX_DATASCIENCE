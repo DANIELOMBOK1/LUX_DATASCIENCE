{
 "cells": [
  {
   "cell_type": "markdown",
   "id": "b2cc36e1",
   "metadata": {},
   "source": [
    "### z-score test and p-value"
   ]
  },
  {
   "cell_type": "markdown",
   "id": "a00ab680",
   "metadata": {
    "vscode": {
     "languageId": "plaintext"
    }
   },
   "source": [
    "- population is the collection of elements in the area of study\n",
    "\n",
    "- sample is a sub-set of population if it carries relevant items in the population\n",
    "\n",
    "-it can also be reffered to a representative of the population if it accurately reflect members of the population."
   ]
  }
 ],
 "metadata": {
  "language_info": {
   "name": "python"
  }
 },
 "nbformat": 4,
 "nbformat_minor": 5
}

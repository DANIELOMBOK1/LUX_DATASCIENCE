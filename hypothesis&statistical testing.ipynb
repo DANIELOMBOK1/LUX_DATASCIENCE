{
 "cells": [
  {
   "cell_type": "markdown",
   "id": "b2cc36e1",
   "metadata": {},
   "source": [
    "### z-score test and p-value"
   ]
  },
  {
   "cell_type": "code",
   "execution_count": null,
   "id": "a00ab680",
   "metadata": {
    "vscode": {
     "languageId": "plaintext"
    }
   },
   "outputs": [],
   "source": []
  }
 ],
 "metadata": {
  "language_info": {
   "name": "python"
  }
 },
 "nbformat": 4,
 "nbformat_minor": 5
}
